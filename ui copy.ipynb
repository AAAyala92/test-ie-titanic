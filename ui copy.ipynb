{
 "cells": [
  {
   "cell_type": "code",
   "execution_count": 16,
   "id": "44ea6435",
   "metadata": {},
   "outputs": [],
   "source": [
    "import ipywidgets as ipyw"
   ]
  },
  {
   "cell_type": "code",
   "execution_count": 29,
   "id": "da4107cb",
   "metadata": {},
   "outputs": [],
   "source": [
    "from titanic_utils.str_utils import extract_titles"
   ]
  },
  {
   "cell_type": "code",
   "execution_count": 32,
   "id": "7c3ea509",
   "metadata": {},
   "outputs": [
    {
     "data": {
      "application/vnd.jupyter.widget-view+json": {
       "model_id": "2b008a54f5854d4cb2c7f2f47734ef45",
       "version_major": 2,
       "version_minor": 0
      },
      "text/plain": [
       "interactive(children=(Text(value='Mr. John Doe', description='name'), Output()), _dom_classes=('widget-interac…"
      ]
     },
     "metadata": {},
     "output_type": "display_data"
    }
   ],
   "source": [
    "@ipyw.interact()\n",
    "def do_extract_titles(name=\"Mr. John Doe\"):\n",
    "    try:\n",
    "        title = extract_titles(name)\n",
    "    except:\n",
    "        print(\"No title detected\")\n",
    "    else:\n",
    "        print(f\"Title: {title}\")"
   ]
  }
 ],
 "metadata": {
  "kernelspec": {
   "display_name": "Python 3 (ipykernel)",
   "language": "python",
   "name": "python3"
  },
  "language_info": {
   "codemirror_mode": {
    "name": "ipython",
    "version": 3
   },
   "file_extension": ".py",
   "mimetype": "text/x-python",
   "name": "python",
   "nbconvert_exporter": "python",
   "pygments_lexer": "ipython3",
   "version": "3.8.12"
  }
 },
 "nbformat": 4,
 "nbformat_minor": 5
}
